{
 "cells": [
  {
   "cell_type": "code",
   "execution_count": 1,
   "id": "9c4ec0ca",
   "metadata": {},
   "outputs": [],
   "source": [
    "import numpy as np"
   ]
  },
  {
   "cell_type": "code",
   "execution_count": 2,
   "id": "91bc8523",
   "metadata": {},
   "outputs": [],
   "source": [
    "def tuple2colvec(x):\n",
    "    return np.array(x)[np.newaxis, ...].T"
   ]
  },
  {
   "cell_type": "code",
   "execution_count": 3,
   "id": "58a55e4b",
   "metadata": {},
   "outputs": [],
   "source": [
    "def colvec2tuple(x):\n",
    "    return tuple(x.T[0])"
   ]
  },
  {
   "cell_type": "code",
   "execution_count": 4,
   "id": "984613d9",
   "metadata": {},
   "outputs": [],
   "source": [
    "def f(x: np.array):\n",
    "    x1, x2 = colvec2tuple(x)\n",
    "    return x1 ** 2 + x2 ** 2"
   ]
  },
  {
   "cell_type": "code",
   "execution_count": 5,
   "id": "ed178913",
   "metadata": {},
   "outputs": [],
   "source": [
    "def grad_f(x: np.array) -> np.array:\n",
    "    x1, x2 = colvec2tuple(x)\n",
    "    grad_tuple = (2 * x1, 2 * x2)\n",
    "    return tuple2colvec(grad_tuple)"
   ]
  },
  {
   "cell_type": "code",
   "execution_count": 6,
   "id": "37bf7c80",
   "metadata": {},
   "outputs": [],
   "source": [
    "def hessian(x) -> np.array:\n",
    "    x1, x2 = x[0][0], x[1][0]\n",
    "    H = np.array([[2 * x1, 0], [0, 2 * x2]])\n",
    "    return H"
   ]
  },
  {
   "cell_type": "code",
   "execution_count": 7,
   "id": "45d9a8f0",
   "metadata": {},
   "outputs": [],
   "source": [
    "def B(H) -> np.array:\n",
    "    return np.linalg.inv(H)"
   ]
  },
  {
   "cell_type": "code",
   "execution_count": 8,
   "id": "2ee09824",
   "metadata": {},
   "outputs": [],
   "source": [
    "x_optimum = tuple2colvec((0.0, 0.0))"
   ]
  },
  {
   "cell_type": "code",
   "execution_count": 9,
   "id": "41acc81a",
   "metadata": {},
   "outputs": [],
   "source": [
    "def run(args):\n",
    "    iter_num, step_size, x = args['iter_num'], args['step_size'], args['x_0']\n",
    "\n",
    "    for i in range(iter_num):\n",
    "        print(f'iter: {i:02d} | x_opt: {colvec2tuple(x)} | value: {f(x)}')\n",
    "        H = hessian(x)\n",
    "        x = x - step_size * B(H) @ grad_f(x) \n",
    "        if np.abs(x_optimum - x).sum() < 1e-6:\n",
    "            break\n",
    "    print(f'\\nGlobal optimum found at:\\niter: {i:02d} | x_opt: {colvec2tuple(x)} | val_opt: {f(x)}')"
   ]
  },
  {
   "cell_type": "code",
   "execution_count": 10,
   "id": "c2081b54",
   "metadata": {},
   "outputs": [],
   "source": [
    "# Let us use the column notation\n",
    "x_0 = tuple2colvec((100., 100.))"
   ]
  },
  {
   "cell_type": "code",
   "execution_count": 11,
   "id": "66f7f458",
   "metadata": {},
   "outputs": [
    {
     "data": {
      "text/plain": [
       "array([[100.],\n",
       "       [100.]])"
      ]
     },
     "execution_count": 11,
     "metadata": {},
     "output_type": "execute_result"
    }
   ],
   "source": [
    "x_0"
   ]
  },
  {
   "cell_type": "code",
   "execution_count": 12,
   "id": "03ffb12c",
   "metadata": {},
   "outputs": [
    {
     "data": {
      "text/plain": [
       "(100.0, 100.0)"
      ]
     },
     "execution_count": 12,
     "metadata": {},
     "output_type": "execute_result"
    }
   ],
   "source": [
    "colvec2tuple(x_0)"
   ]
  },
  {
   "cell_type": "code",
   "execution_count": 13,
   "id": "02ccd606",
   "metadata": {},
   "outputs": [
    {
     "data": {
      "text/plain": [
       "array([[1.],\n",
       "       [2.]])"
      ]
     },
     "execution_count": 13,
     "metadata": {},
     "output_type": "execute_result"
    }
   ],
   "source": [
    "tuple2colvec((1., 2.))"
   ]
  },
  {
   "cell_type": "code",
   "execution_count": 14,
   "id": "1d670ab6",
   "metadata": {},
   "outputs": [
    {
     "name": "stdout",
     "output_type": "stream",
     "text": [
      "iter: 00 | x_opt: (100.0, 100.0) | value: 20000.0\n",
      "iter: 01 | x_opt: (99.0, 99.0) | value: 19602.0\n",
      "iter: 02 | x_opt: (98.0, 98.0) | value: 19208.0\n",
      "iter: 03 | x_opt: (97.0, 97.0) | value: 18818.0\n",
      "iter: 04 | x_opt: (96.0, 96.0) | value: 18432.0\n",
      "iter: 05 | x_opt: (95.0, 95.0) | value: 18050.0\n",
      "iter: 06 | x_opt: (94.0, 94.0) | value: 17672.0\n",
      "iter: 07 | x_opt: (93.0, 93.0) | value: 17298.0\n",
      "iter: 08 | x_opt: (92.0, 92.0) | value: 16928.0\n",
      "iter: 09 | x_opt: (91.0, 91.0) | value: 16562.0\n",
      "iter: 10 | x_opt: (90.0, 90.0) | value: 16200.0\n",
      "iter: 11 | x_opt: (89.0, 89.0) | value: 15842.0\n",
      "iter: 12 | x_opt: (88.0, 88.0) | value: 15488.0\n",
      "iter: 13 | x_opt: (87.0, 87.0) | value: 15138.0\n",
      "iter: 14 | x_opt: (86.0, 86.0) | value: 14792.0\n",
      "iter: 15 | x_opt: (85.0, 85.0) | value: 14450.0\n",
      "iter: 16 | x_opt: (84.0, 84.0) | value: 14112.0\n",
      "iter: 17 | x_opt: (83.0, 83.0) | value: 13778.0\n",
      "iter: 18 | x_opt: (82.0, 82.0) | value: 13448.0\n",
      "iter: 19 | x_opt: (81.0, 81.0) | value: 13122.0\n",
      "iter: 20 | x_opt: (80.0, 80.0) | value: 12800.0\n",
      "iter: 21 | x_opt: (79.0, 79.0) | value: 12482.0\n",
      "iter: 22 | x_opt: (78.0, 78.0) | value: 12168.0\n",
      "iter: 23 | x_opt: (77.0, 77.0) | value: 11858.0\n",
      "iter: 24 | x_opt: (76.0, 76.0) | value: 11552.0\n",
      "iter: 25 | x_opt: (75.0, 75.0) | value: 11250.0\n",
      "iter: 26 | x_opt: (74.0, 74.0) | value: 10952.0\n",
      "iter: 27 | x_opt: (73.0, 73.0) | value: 10658.0\n",
      "iter: 28 | x_opt: (72.0, 72.0) | value: 10368.0\n",
      "iter: 29 | x_opt: (71.0, 71.0) | value: 10082.0\n",
      "iter: 30 | x_opt: (70.0, 70.0) | value: 9800.0\n",
      "iter: 31 | x_opt: (69.0, 69.0) | value: 9522.0\n",
      "iter: 32 | x_opt: (68.0, 68.0) | value: 9248.0\n",
      "iter: 33 | x_opt: (67.0, 67.0) | value: 8978.0\n",
      "iter: 34 | x_opt: (66.0, 66.0) | value: 8712.0\n",
      "iter: 35 | x_opt: (65.0, 65.0) | value: 8450.0\n",
      "iter: 36 | x_opt: (64.0, 64.0) | value: 8192.0\n",
      "iter: 37 | x_opt: (63.0, 63.0) | value: 7938.0\n",
      "iter: 38 | x_opt: (62.0, 62.0) | value: 7688.0\n",
      "iter: 39 | x_opt: (61.0, 61.0) | value: 7442.0\n",
      "iter: 40 | x_opt: (60.0, 60.0) | value: 7200.0\n",
      "iter: 41 | x_opt: (59.0, 59.0) | value: 6962.0\n",
      "iter: 42 | x_opt: (58.0, 58.0) | value: 6728.0\n",
      "iter: 43 | x_opt: (57.0, 57.0) | value: 6498.0\n",
      "iter: 44 | x_opt: (56.0, 56.0) | value: 6272.0\n",
      "iter: 45 | x_opt: (55.0, 55.0) | value: 6050.0\n",
      "iter: 46 | x_opt: (54.0, 54.0) | value: 5832.0\n",
      "iter: 47 | x_opt: (53.0, 53.0) | value: 5618.0\n",
      "iter: 48 | x_opt: (52.0, 52.0) | value: 5408.0\n",
      "iter: 49 | x_opt: (51.0, 51.0) | value: 5202.0\n",
      "iter: 50 | x_opt: (50.0, 50.0) | value: 5000.0\n",
      "iter: 51 | x_opt: (49.0, 49.0) | value: 4802.0\n",
      "iter: 52 | x_opt: (48.0, 48.0) | value: 4608.0\n",
      "iter: 53 | x_opt: (47.0, 47.0) | value: 4418.0\n",
      "iter: 54 | x_opt: (46.0, 46.0) | value: 4232.0\n",
      "iter: 55 | x_opt: (45.0, 45.0) | value: 4050.0\n",
      "iter: 56 | x_opt: (44.0, 44.0) | value: 3872.0\n",
      "iter: 57 | x_opt: (43.0, 43.0) | value: 3698.0\n",
      "iter: 58 | x_opt: (42.0, 42.0) | value: 3528.0\n",
      "iter: 59 | x_opt: (41.0, 41.0) | value: 3362.0\n",
      "iter: 60 | x_opt: (40.0, 40.0) | value: 3200.0\n",
      "iter: 61 | x_opt: (39.0, 39.0) | value: 3042.0\n",
      "iter: 62 | x_opt: (38.0, 38.0) | value: 2888.0\n",
      "iter: 63 | x_opt: (37.0, 37.0) | value: 2738.0\n",
      "iter: 64 | x_opt: (36.0, 36.0) | value: 2592.0\n",
      "iter: 65 | x_opt: (35.0, 35.0) | value: 2450.0\n",
      "iter: 66 | x_opt: (34.0, 34.0) | value: 2312.0\n",
      "iter: 67 | x_opt: (33.0, 33.0) | value: 2178.0\n",
      "iter: 68 | x_opt: (32.0, 32.0) | value: 2048.0\n",
      "iter: 69 | x_opt: (31.0, 31.0) | value: 1922.0\n",
      "iter: 70 | x_opt: (30.0, 30.0) | value: 1800.0\n",
      "iter: 71 | x_opt: (29.0, 29.0) | value: 1682.0\n",
      "iter: 72 | x_opt: (28.0, 28.0) | value: 1568.0\n",
      "iter: 73 | x_opt: (27.0, 27.0) | value: 1458.0\n",
      "iter: 74 | x_opt: (26.0, 26.0) | value: 1352.0\n",
      "iter: 75 | x_opt: (25.0, 25.0) | value: 1250.0\n",
      "iter: 76 | x_opt: (24.0, 24.0) | value: 1152.0\n",
      "iter: 77 | x_opt: (23.0, 23.0) | value: 1058.0\n",
      "iter: 78 | x_opt: (22.0, 22.0) | value: 968.0\n",
      "iter: 79 | x_opt: (21.0, 21.0) | value: 882.0\n",
      "iter: 80 | x_opt: (20.0, 20.0) | value: 800.0\n",
      "iter: 81 | x_opt: (19.0, 19.0) | value: 722.0\n",
      "iter: 82 | x_opt: (18.0, 18.0) | value: 648.0\n",
      "iter: 83 | x_opt: (17.0, 17.0) | value: 578.0\n",
      "iter: 84 | x_opt: (16.0, 16.0) | value: 512.0\n",
      "iter: 85 | x_opt: (15.0, 15.0) | value: 450.0\n",
      "iter: 86 | x_opt: (14.0, 14.0) | value: 392.0\n",
      "iter: 87 | x_opt: (13.0, 13.0) | value: 338.0\n",
      "iter: 88 | x_opt: (12.0, 12.0) | value: 288.0\n",
      "iter: 89 | x_opt: (11.0, 11.0) | value: 242.0\n",
      "iter: 90 | x_opt: (10.0, 10.0) | value: 200.0\n",
      "iter: 91 | x_opt: (9.0, 9.0) | value: 162.0\n",
      "iter: 92 | x_opt: (8.0, 8.0) | value: 128.0\n",
      "iter: 93 | x_opt: (7.0, 7.0) | value: 98.0\n",
      "iter: 94 | x_opt: (6.0, 6.0) | value: 72.0\n",
      "iter: 95 | x_opt: (5.0, 5.0) | value: 50.0\n",
      "iter: 96 | x_opt: (4.0, 4.0) | value: 32.0\n",
      "iter: 97 | x_opt: (3.0, 3.0) | value: 18.0\n",
      "iter: 98 | x_opt: (2.0, 2.0) | value: 8.0\n",
      "iter: 99 | x_opt: (1.0, 1.0) | value: 2.0\n",
      "\n",
      "Global optimum found at:\n",
      "iter: 99 | x_opt: (0.0, 0.0) | val_opt: 0.0\n"
     ]
    }
   ],
   "source": [
    "args = dict()\n",
    "args['iter_num'] = 100\n",
    "args['step_size'] = 1.0\n",
    "args['x_0'] = x_0\n",
    "run(args)"
   ]
  }
 ],
 "metadata": {
  "kernelspec": {
   "display_name": "Python 3",
   "language": "python",
   "name": "python3"
  },
  "language_info": {
   "codemirror_mode": {
    "name": "ipython",
    "version": 3
   },
   "file_extension": ".py",
   "mimetype": "text/x-python",
   "name": "python",
   "nbconvert_exporter": "python",
   "pygments_lexer": "ipython3",
   "version": "3.8.8"
  }
 },
 "nbformat": 4,
 "nbformat_minor": 5
}
